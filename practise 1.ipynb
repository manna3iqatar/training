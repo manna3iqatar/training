{
 "cells": [
  {
   "cell_type": "code",
   "execution_count": 1,
   "id": "f4d520da",
   "metadata": {},
   "outputs": [
    {
     "data": {
      "text/plain": [
       "8"
      ]
     },
     "execution_count": 1,
     "metadata": {},
     "output_type": "execute_result"
    }
   ],
   "source": [
    "6+2"
   ]
  },
  {
   "cell_type": "code",
   "execution_count": 2,
   "id": "e3552da9",
   "metadata": {},
   "outputs": [
    {
     "data": {
      "text/plain": [
       "'hihi'"
      ]
     },
     "execution_count": 2,
     "metadata": {},
     "output_type": "execute_result"
    }
   ],
   "source": [
    "x = \"hi\"\n",
    "y = 2\n",
    "x*2"
   ]
  },
  {
   "cell_type": "code",
   "execution_count": 3,
   "id": "d19c4b0e",
   "metadata": {},
   "outputs": [
    {
     "data": {
      "text/plain": [
       "float"
      ]
     },
     "execution_count": 3,
     "metadata": {},
     "output_type": "execute_result"
    }
   ],
   "source": [
    "type(6.0)"
   ]
  },
  {
   "cell_type": "code",
   "execution_count": 4,
   "id": "6b891c26",
   "metadata": {},
   "outputs": [
    {
     "data": {
      "text/plain": [
       "2"
      ]
     },
     "execution_count": 4,
     "metadata": {},
     "output_type": "execute_result"
    }
   ],
   "source": [
    "int(y)"
   ]
  },
  {
   "cell_type": "code",
   "execution_count": 5,
   "id": "5ccff126",
   "metadata": {},
   "outputs": [
    {
     "data": {
      "text/plain": [
       "'2'"
      ]
     },
     "execution_count": 5,
     "metadata": {},
     "output_type": "execute_result"
    }
   ],
   "source": [
    "str(2)"
   ]
  },
  {
   "cell_type": "code",
   "execution_count": 6,
   "id": "af3dd726",
   "metadata": {},
   "outputs": [
    {
     "data": {
      "text/plain": [
       "False"
      ]
     },
     "execution_count": 6,
     "metadata": {},
     "output_type": "execute_result"
    }
   ],
   "source": [
    "y == str(2)"
   ]
  },
  {
   "cell_type": "code",
   "execution_count": 7,
   "id": "ec450042",
   "metadata": {},
   "outputs": [
    {
     "data": {
      "text/plain": [
       "True"
      ]
     },
     "execution_count": 7,
     "metadata": {},
     "output_type": "execute_result"
    }
   ],
   "source": [
    "2.0 == 2"
   ]
  },
  {
   "cell_type": "code",
   "execution_count": 8,
   "id": "5bfedf0f",
   "metadata": {},
   "outputs": [],
   "source": [
    "list_a = [5 ,12,4,6]"
   ]
  },
  {
   "cell_type": "code",
   "execution_count": 9,
   "id": "004214c2",
   "metadata": {},
   "outputs": [
    {
     "data": {
      "text/plain": [
       "4"
      ]
     },
     "execution_count": 9,
     "metadata": {},
     "output_type": "execute_result"
    }
   ],
   "source": [
    "len(list_a)"
   ]
  },
  {
   "cell_type": "code",
   "execution_count": 10,
   "id": "c03dc9a7",
   "metadata": {},
   "outputs": [
    {
     "data": {
      "text/plain": [
       "5"
      ]
     },
     "execution_count": 10,
     "metadata": {},
     "output_type": "execute_result"
    }
   ],
   "source": [
    "list_a[0]"
   ]
  },
  {
   "cell_type": "code",
   "execution_count": 11,
   "id": "a5b441ff",
   "metadata": {},
   "outputs": [],
   "source": [
    "list_b = [100 , 200 ,350]"
   ]
  },
  {
   "cell_type": "code",
   "execution_count": 12,
   "id": "dbe6e065",
   "metadata": {},
   "outputs": [
    {
     "data": {
      "text/plain": [
       "[5, 12, 4, 6, 100, 200, 350]"
      ]
     },
     "execution_count": 12,
     "metadata": {},
     "output_type": "execute_result"
    }
   ],
   "source": [
    "list_a + list_b"
   ]
  },
  {
   "cell_type": "code",
   "execution_count": 13,
   "id": "2a3815c1",
   "metadata": {},
   "outputs": [
    {
     "data": {
      "text/plain": [
       "[5, 12, 4, 6, 5, 12, 4, 6, 5, 12, 4, 6]"
      ]
     },
     "execution_count": 13,
     "metadata": {},
     "output_type": "execute_result"
    }
   ],
   "source": [
    "list_a * 3"
   ]
  },
  {
   "cell_type": "code",
   "execution_count": 14,
   "id": "3c183bb0",
   "metadata": {},
   "outputs": [],
   "source": [
    "list_a.append(15)"
   ]
  },
  {
   "cell_type": "code",
   "execution_count": 15,
   "id": "7fa3fba2",
   "metadata": {},
   "outputs": [
    {
     "data": {
      "text/plain": [
       "[5, 12, 4, 6, 15]"
      ]
     },
     "execution_count": 15,
     "metadata": {},
     "output_type": "execute_result"
    }
   ],
   "source": [
    "list_a"
   ]
  },
  {
   "cell_type": "code",
   "execution_count": 16,
   "id": "3df3b6a8",
   "metadata": {},
   "outputs": [],
   "source": [
    "list_a.append(list_b)"
   ]
  },
  {
   "cell_type": "code",
   "execution_count": 17,
   "id": "0b767c3d",
   "metadata": {},
   "outputs": [
    {
     "data": {
      "text/plain": [
       "[5, 12, 4, 6, 15, [100, 200, 350]]"
      ]
     },
     "execution_count": 17,
     "metadata": {},
     "output_type": "execute_result"
    }
   ],
   "source": [
    "list_a"
   ]
  },
  {
   "cell_type": "code",
   "execution_count": 18,
   "id": "722c9c80",
   "metadata": {},
   "outputs": [
    {
     "data": {
      "text/plain": [
       "list"
      ]
     },
     "execution_count": 18,
     "metadata": {},
     "output_type": "execute_result"
    }
   ],
   "source": [
    "type(list_a)"
   ]
  },
  {
   "cell_type": "code",
   "execution_count": 19,
   "id": "15b558a8",
   "metadata": {},
   "outputs": [
    {
     "name": "stdout",
     "output_type": "stream",
     "text": [
      "100\n",
      "200\n",
      "350\n"
     ]
    }
   ],
   "source": [
    "for e in list_b:\n",
    "    print(e)"
   ]
  },
  {
   "cell_type": "code",
   "execution_count": 20,
   "id": "11e22a93",
   "metadata": {},
   "outputs": [],
   "source": [
    "acc = []\n",
    "for e in list_b:\n",
    "    e = e+5\n",
    "    acc.append(e)\n",
    "list_b = acc"
   ]
  },
  {
   "cell_type": "code",
   "execution_count": 21,
   "id": "985c723d",
   "metadata": {},
   "outputs": [
    {
     "data": {
      "text/plain": [
       "[105, 205, 355]"
      ]
     },
     "execution_count": 21,
     "metadata": {},
     "output_type": "execute_result"
    }
   ],
   "source": [
    "list_b"
   ]
  },
  {
   "cell_type": "code",
   "execution_count": 22,
   "id": "a02f67c5",
   "metadata": {},
   "outputs": [
    {
     "data": {
      "text/plain": [
       "6"
      ]
     },
     "execution_count": 22,
     "metadata": {},
     "output_type": "execute_result"
    }
   ],
   "source": [
    "len(list_a)"
   ]
  },
  {
   "cell_type": "code",
   "execution_count": 23,
   "id": "75a2888e",
   "metadata": {},
   "outputs": [],
   "source": [
    "for e in list_b:\n",
    "    list_a.append(e)"
   ]
  },
  {
   "cell_type": "code",
   "execution_count": 24,
   "id": "cb5d66f5",
   "metadata": {},
   "outputs": [
    {
     "data": {
      "text/plain": [
       "[5, 12, 4, 6, 15, [100, 200, 350], 105, 205, 355]"
      ]
     },
     "execution_count": 24,
     "metadata": {},
     "output_type": "execute_result"
    }
   ],
   "source": [
    "list_a"
   ]
  },
  {
   "cell_type": "code",
   "execution_count": 25,
   "id": "37ec1ad3",
   "metadata": {},
   "outputs": [],
   "source": [
    "# x = list_a[:5] + list_a[6:]\n",
    "# list_a = x"
   ]
  },
  {
   "cell_type": "code",
   "execution_count": 26,
   "id": "18e8a816",
   "metadata": {},
   "outputs": [
    {
     "data": {
      "text/plain": [
       "[5, 12, 4, 6, 15, [100, 200, 350], 105, 205, 355]"
      ]
     },
     "execution_count": 26,
     "metadata": {},
     "output_type": "execute_result"
    }
   ],
   "source": [
    "list_a"
   ]
  },
  {
   "cell_type": "code",
   "execution_count": 28,
   "id": "6214eee9",
   "metadata": {},
   "outputs": [],
   "source": [
    "del list_a[5]"
   ]
  },
  {
   "cell_type": "code",
   "execution_count": 29,
   "id": "5f411f7d",
   "metadata": {},
   "outputs": [
    {
     "data": {
      "text/plain": [
       "[5, 12, 4, 6, 15, 205, 355]"
      ]
     },
     "execution_count": 29,
     "metadata": {},
     "output_type": "execute_result"
    }
   ],
   "source": [
    "list_a"
   ]
  },
  {
   "cell_type": "code",
   "execution_count": 31,
   "id": "19514eb5",
   "metadata": {},
   "outputs": [],
   "source": [
    "for e in list_a:\n",
    "    if e % 5 == 0:\n",
    "        list_b.append(e)"
   ]
  },
  {
   "cell_type": "code",
   "execution_count": 32,
   "id": "c8c6300d",
   "metadata": {},
   "outputs": [
    {
     "data": {
      "text/plain": [
       "[105, 205, 355, 5, 15, 205, 355]"
      ]
     },
     "execution_count": 32,
     "metadata": {},
     "output_type": "execute_result"
    }
   ],
   "source": [
    "list_b"
   ]
  },
  {
   "cell_type": "code",
   "execution_count": 33,
   "id": "b5038bb4",
   "metadata": {},
   "outputs": [],
   "source": [
    "not_divisible = []\n",
    "for e in list_a:\n",
    "    if e % 5 == 0:\n",
    "        list_b.append(e)\n",
    "    else:\n",
    "        not_divisible.append(e)"
   ]
  },
  {
   "cell_type": "code",
   "execution_count": 34,
   "id": "a7471d3a",
   "metadata": {},
   "outputs": [
    {
     "data": {
      "text/plain": [
       "[12, 4, 6]"
      ]
     },
     "execution_count": 34,
     "metadata": {},
     "output_type": "execute_result"
    }
   ],
   "source": [
    "not_divisible"
   ]
  },
  {
   "cell_type": "code",
   "execution_count": 35,
   "id": "c4ecd78e",
   "metadata": {},
   "outputs": [
    {
     "data": {
      "text/plain": [
       "True"
      ]
     },
     "execution_count": 35,
     "metadata": {},
     "output_type": "execute_result"
    }
   ],
   "source": [
    "not False"
   ]
  },
  {
   "cell_type": "code",
   "execution_count": 36,
   "id": "790be5c0",
   "metadata": {},
   "outputs": [
    {
     "data": {
      "text/plain": [
       "False"
      ]
     },
     "execution_count": 36,
     "metadata": {},
     "output_type": "execute_result"
    }
   ],
   "source": [
    "True and False"
   ]
  },
  {
   "cell_type": "code",
   "execution_count": 37,
   "id": "d08b67c4",
   "metadata": {},
   "outputs": [
    {
     "data": {
      "text/plain": [
       "True"
      ]
     },
     "execution_count": 37,
     "metadata": {},
     "output_type": "execute_result"
    }
   ],
   "source": [
    "not (True and False)"
   ]
  },
  {
   "cell_type": "code",
   "execution_count": 38,
   "id": "3e4c9281",
   "metadata": {},
   "outputs": [
    {
     "data": {
      "text/plain": [
       "False"
      ]
     },
     "execution_count": 38,
     "metadata": {},
     "output_type": "execute_result"
    }
   ],
   "source": [
    "not (True or False)"
   ]
  },
  {
   "cell_type": "markdown",
   "id": "d5880bcf",
   "metadata": {},
   "source": [
    "Write a Python program which iterates the integers from 1 to 50. For multiples of three print \"Fizz\" instead of the number \n",
    "and for the multiples of five print \"Buzz\". For numbers which are multiples of both three and five print \"FizzBuzz.\n"
   ]
  },
  {
   "cell_type": "code",
   "execution_count": 45,
   "id": "2b333ba0",
   "metadata": {},
   "outputs": [],
   "source": [
    "num_list = list(range(1,51))"
   ]
  },
  {
   "cell_type": "code",
   "execution_count": 46,
   "id": "0328bad7",
   "metadata": {},
   "outputs": [
    {
     "name": "stdout",
     "output_type": "stream",
     "text": [
      "1\n",
      "2\n",
      "3 fizz\n",
      "4\n",
      "5 buzz\n",
      "6 fizz\n",
      "7\n",
      "8\n",
      "9 fizz\n",
      "10 buzz\n",
      "11\n",
      "12 fizz\n",
      "13\n",
      "14\n",
      "15 fizzbuzz\n",
      "16\n",
      "17\n",
      "18 fizz\n",
      "19\n",
      "20 buzz\n",
      "21 fizz\n",
      "22\n",
      "23\n",
      "24 fizz\n",
      "25 buzz\n",
      "26\n",
      "27 fizz\n",
      "28\n",
      "29\n",
      "30 fizzbuzz\n",
      "31\n",
      "32\n",
      "33 fizz\n",
      "34\n",
      "35 buzz\n",
      "36 fizz\n",
      "37\n",
      "38\n",
      "39 fizz\n",
      "40 buzz\n",
      "41\n",
      "42 fizz\n",
      "43\n",
      "44\n",
      "45 fizzbuzz\n",
      "46\n",
      "47\n",
      "48 fizz\n",
      "49\n",
      "50 buzz\n"
     ]
    }
   ],
   "source": [
    "for e in num_list: \n",
    "\n",
    "    if e % 3 == 0 and not e% 5 == 0: \n",
    "\n",
    "        print(e,\"fizz\") \n",
    "\n",
    "    elif e % 5 == 0 and not e% 3 == 0: \n",
    "\n",
    "        print(e,\"buzz\") \n",
    "\n",
    "    elif e%5 == 0 and e%3 == 0 : \n",
    "\n",
    "        print(e,\"fizzbuzz\") \n",
    "\n",
    "    else: \n",
    "\n",
    "        print(e) "
   ]
  },
  {
   "cell_type": "code",
   "execution_count": null,
   "id": "0e1dfb6d",
   "metadata": {},
   "outputs": [],
   "source": []
  }
 ],
 "metadata": {
  "kernelspec": {
   "display_name": "pythonpactiseenv",
   "language": "python",
   "name": "pythonpactiseenv"
  },
  "language_info": {
   "codemirror_mode": {
    "name": "ipython",
    "version": 3
   },
   "file_extension": ".py",
   "mimetype": "text/x-python",
   "name": "python",
   "nbconvert_exporter": "python",
   "pygments_lexer": "ipython3",
   "version": "3.10.4"
  }
 },
 "nbformat": 4,
 "nbformat_minor": 5
}
